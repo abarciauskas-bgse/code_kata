{
 "cells": [
  {
   "cell_type": "code",
   "execution_count": 72,
   "metadata": {
    "collapsed": true
   },
   "outputs": [],
   "source": [
    "class BinaryTree():\n",
    "    # takes an array and creates a dictionary representing the tree\n",
    "    # this is my impl - in tutorial they use a list of lists representation\n",
    "    def __init__(self, array):\n",
    "        self.tree_dict = {}\n",
    "        self.root = array[0]\n",
    "        self.adjacency_list = array\n",
    "        for index, value in enumerate(array):\n",
    "            self.tree_dict[value] = {}\n",
    "            lefti = 2*index+1\n",
    "            righti = 2*index+2\n",
    "            parenti = (index-1)/2\n",
    "            self.tree_dict[value]['left_child'] = array[lefti] if (lefti < len(array)) else None\n",
    "            self.tree_dict[value]['right_child'] = array[righti] if (righti < len(array)) else None\n",
    "            self.tree_dict[value]['parenti'] = array[parenti] if (parenti >= 0) else None\n",
    "\n",
    "    def traverse(self, method = 'inorder'): #, node_function):\n",
    "        current = self.root\n",
    "        if method == 'inorder':\n",
    "            self.inorder_traverse(current)#, node_function)\n",
    "\n",
    "    def inorder_traverse(self, current):\n",
    "        if current is not None:\n",
    "            self.inorder_traverse(self.tree_dict[current]['left_child'])\n",
    "            print current\n",
    "            self.inorder_traverse(self.tree_dict[current]['right_child'])\n",
    "\n",
    "    def breadth_first_search(self, search_value):\n",
    "        # Using a queue, we first append the left and then right of the root node to the queue\n",
    "        # then while the queue is non empty, we take the last item from the queue and explore and add it's children\n",
    "        if search_value == self.root: return self.root\n",
    "        # need to check for None before putting this in here\n",
    "        queue = []\n",
    "        right_child = self.tree_dict[self.root]['right_child']\n",
    "        left_child = self.tree_dict[self.root]['left_child']\n",
    "        if right_child is not None:\n",
    "            queue.append(right_child)\n",
    "        if left_child is not None:\n",
    "            queue.append(left_child)\n",
    "        while len(queue) > 0:\n",
    "            node_data = queue.pop(-1)\n",
    "            if node_data == search_value: return True # return index of?\n",
    "            has_left_subtree = 'left_child' in self.tree_dict[node_data]\n",
    "            has_right_subtree = 'right_child' in self.tree_dict[node_data]\n",
    "            if has_left_subtree:\n",
    "                left_child = self.tree_dict[node_data]['left_child'] \n",
    "                if left_child is not None: queue.insert(0, left_child)\n",
    "            if has_right_subtree:\n",
    "                right_child = self.tree_dict[node_data]['right_child']\n",
    "                if right_child is not None: queue.insert(0, right_child)\n",
    "        return False\n",
    "\n",
    "    def height(self):\n",
    "        if self.root is not None:\n",
    "            height = 1\n",
    "        else:\n",
    "            return 0        \n",
    "        last_index = len(self.adjacency_list)\n",
    "        parent = (last_index)/2\n",
    "        while parent > 0:\n",
    "            height += 1\n",
    "            last_index = parent\n",
    "            parent = (last_index)/2\n",
    "        return height"
   ]
  },
  {
   "cell_type": "code",
   "execution_count": 77,
   "metadata": {
    "collapsed": false
   },
   "outputs": [
    {
     "name": "stdout",
     "output_type": "stream",
     "text": [
      "[0 1 2 3 4 5 6 7 8 9]\n",
      "{0: {'left_child': 1, 'parenti': None, 'right_child': 2}, 1: {'left_child': 3, 'parenti': 0, 'right_child': 4}, 2: {'left_child': 5, 'parenti': 0, 'right_child': 6}, 3: {'left_child': 7, 'parenti': 1, 'right_child': 8}, 4: {'left_child': 9, 'parenti': 1, 'right_child': None}, 5: {'left_child': None, 'parenti': 2, 'right_child': None}, 6: {'left_child': None, 'parenti': 2, 'right_child': None}, 7: {'left_child': None, 'parenti': 3, 'right_child': None}, 8: {'left_child': None, 'parenti': 3, 'right_child': None}, 9: {'left_child': None, 'parenti': 4, 'right_child': None}}\n",
      "Root: 0\n",
      "Height: 4\n",
      "BFS for 10: False\n",
      "\n"
     ]
    }
   ],
   "source": [
    "import numpy as np\n",
    "#rarray = np.sort(list(set(np.random.randint(20, size = 10))))\n",
    "rarray = np.arange(0,10,1)\n",
    "print rarray\n",
    "btree = BinaryTree(rarray)\n",
    "print btree.tree_dict\n",
    "print \"Root: \" + str(btree.root)\n",
    "print \"Height: \" + str(btree.height())\n",
    "search_val = 10\n",
    "print \"BFS for \" + str(search_val) + \": \" + str(btree.breadth_first_search(search_val))\n",
    "print \"\"\n",
    "\n",
    "#btree.tra"
   ]
  }
 ],
 "metadata": {
  "kernelspec": {
   "display_name": "Python 2",
   "language": "python",
   "name": "python2"
  },
  "language_info": {
   "codemirror_mode": {
    "name": "ipython",
    "version": 2
   },
   "file_extension": ".py",
   "mimetype": "text/x-python",
   "name": "python",
   "nbconvert_exporter": "python",
   "pygments_lexer": "ipython2",
   "version": "2.7.11"
  }
 },
 "nbformat": 4,
 "nbformat_minor": 0
}
