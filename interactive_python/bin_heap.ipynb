{
 "cells": [
  {
   "cell_type": "code",
   "execution_count": null,
   "metadata": {
    "collapsed": true
   },
   "outputs": [],
   "source": [
    "class BinHeap:\n",
    "    def __init__(self):\n",
    "        # start with 0 so divide by 2 thing works\n",
    "        self.heapList = [0]\n",
    "        self.currentSize = 0\n",
    "        \n",
    "    def percUp(self, size):\n",
    "        current_idx = size\n",
    "        parent = self.heapList[current_idx/2]\n",
    "        bottom = self.heapList[current_idx]\n",
    "        while bottom < parent and current_idx > 1:\n",
    "            # swap\n",
    "            self.heapList[current_idx/2] = bottom\n",
    "            self.heapList[current_idx] = parent\n",
    "            current_idx = current_idx/2\n",
    "            parent = self.heapList[current_idx/2]\n",
    "\n",
    "    def insert(self, value):\n",
    "        self.currentSize += 1\n",
    "        self.heapList.append(value)\n",
    "        self.percUp(self.currentSize)\n",
    "    "
   ]
  }
 ],
 "metadata": {
  "kernelspec": {
   "display_name": "Python 2",
   "language": "python",
   "name": "python2"
  },
  "language_info": {
   "codemirror_mode": {
    "name": "ipython",
    "version": 2
   },
   "file_extension": ".py",
   "mimetype": "text/x-python",
   "name": "python",
   "nbconvert_exporter": "python",
   "pygments_lexer": "ipython2",
   "version": "2.7.11"
  }
 },
 "nbformat": 4,
 "nbformat_minor": 0
}
